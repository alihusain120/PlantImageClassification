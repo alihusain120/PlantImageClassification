{
 "cells": [
  {
   "cell_type": "markdown",
   "metadata": {
    "id": "A9ZmxP6StAoz"
   },
   "source": [
    "# CS542 - Class Challenge - fine-grained classification of plants:\n",
    "\n",
    "Our class challenge will consists of two tasks addressing an image recognition task where our dataset contains about 1K categories of plants with only about 250,000 images.  There will be two parts to this task:\n",
    "\n",
    "1. Image classification. Imagine we have cateloged all the plants we care to identify, now we just need to create a classifier for them! Use your skills from the supervised learning sections of this course to try to address this problem.\n",
    "\n",
    "2. Semi-Supervised/Few-Shot Learning.  Unfortunately, we missed some important plants we want to classify!  We do have some images we think contain the plant, but we have only have a few labels.  Our new goal is to develop an AI model that can learn from just these labeled examples.\n",
    "\n",
    "Each student must submit a model on both tasks.  Students in the top 3 on each task will get 5% extra credit on this assignment.\n",
    "\n",
    "This notebook is associated with the second task (semi-supervised).\n",
    "\n",
    "\n",
    "# Dataset\n",
    "The dataset is downloaded on scc in the address: \"/projectnb2/cs542-bap/classChallenge/data\". You can find the python version of this notebook there as well or you could just type \"jupyter nbconvert --to script baselineModel_task2.ipynb\" and it will output \"baselineModel_task2.py\". You should be able to run \"baselineModel_task2.py\" on scc by simply typing \"python baselineModel_task2.py\"\n",
    "\n",
    "Please don't try to change or delete the dataset.\n",
    "\n",
    "# Evaluation:\n",
    "You will compete with each other over your performance on the dedicated test set. The performance measure is classification accuracy, i.e: if the true class is your top predictions. \n",
    "\n",
    "# Baseline:\n",
    "The following code is a baseline which you can use and improve to come up with your model for this task\n",
    "\n",
    "# Suggestion\n",
    "One simple suggestion would be to use a pretrained model on imagenet and finetune it on this data similar to this [link](https://keras.io/api/applications/)\n",
    "Also you should likely train more than 2 epochs."
   ]
  },
  {
   "cell_type": "markdown",
   "metadata": {
    "id": "4q8oub7ntAo1"
   },
   "source": [
    "## Import TensorFlow and other libraries"
   ]
  },
  {
   "cell_type": "code",
   "execution_count": 13,
   "metadata": {
    "id": "14D2EZ17tAo1"
   },
   "outputs": [],
   "source": [
    "import matplotlib.pyplot as plt\n",
    "import numpy as np\n",
    "import os\n",
    "import PIL\n",
    "import tensorflow as tf\n",
    "\n",
    "from tensorflow import keras\n",
    "from tensorflow.keras import layers\n",
    "from tensorflow.keras.models import Sequential"
   ]
  },
  {
   "cell_type": "code",
   "execution_count": 14,
   "metadata": {},
   "outputs": [
    {
     "name": "stdout",
     "output_type": "stream",
     "text": [
      "2.3.1\n",
      "Num GPUs Available:  1\n",
      "3\n",
      "NUM CORES:  4\n"
     ]
    }
   ],
   "source": [
    "print(tf.version.VERSION)\n",
    "print(\"Num GPUs Available: \", len(tf.config.experimental.list_physical_devices('GPU')))\n",
    "print(os.getenv(\"CUDA_VISIBLE_DEVICES\"))\n",
    "tf.config.set_soft_device_placement(True)\n",
    "def get_n_cores():\n",
    "  nslots = os.getenv('NSLOTS')\n",
    "  if nslots is not None:\n",
    "    return int(nslots)\n",
    "  raise ValueError('Environment variable NSLOTS is not defined.')\n",
    "print(\"NUM CORES: \", get_n_cores())\n",
    "tf.config.threading.set_intra_op_parallelism_threads(get_n_cores()-1)\n",
    "tf.config.threading.set_inter_op_parallelism_threads(1)"
   ]
  },
  {
   "cell_type": "markdown",
   "metadata": {
    "id": "BYaBUsR-tAo3"
   },
   "source": [
    "# Create a dataset"
   ]
  },
  {
   "cell_type": "code",
   "execution_count": 15,
   "metadata": {
    "id": "m893cNgztAo3"
   },
   "outputs": [
    {
     "name": "stdout",
     "output_type": "stream",
     "text": [
      "20\n"
     ]
    }
   ],
   "source": [
    "data_dir = '/projectnb2/cs542-bap/class_challenge/'\n",
    "\n",
    "train_ds = tf.data.TextLineDataset(os.path.join(data_dir, 'train_held_out_labeled.txt'))\n",
    "train_unlabeled_ds = tf.data.TextLineDataset(os.path.join(data_dir, 'train_held_out.txt'))\n",
    "val_ds = tf.data.TextLineDataset(os.path.join(data_dir, 'val_held_out.txt'))\n",
    "test_ds = tf.data.TextLineDataset(os.path.join(data_dir, 'test_held_out.txt'))\n",
    "\n",
    "with open(os.path.join(data_dir, 'classes_held_out.txt'), 'r') as f:\n",
    "  class_names = [c.strip() for c in f.readlines()]\n",
    "\n",
    "num_classes = len(class_names)\n",
    "print(num_classes)"
   ]
  },
  {
   "cell_type": "markdown",
   "metadata": {
    "id": "2m6getXwtAo3"
   },
   "source": [
    "## Write a short function that converts a file path to an (img, label) pair:"
   ]
  },
  {
   "cell_type": "code",
   "execution_count": 16,
   "metadata": {
    "id": "ZrIrN5iItAo3"
   },
   "outputs": [],
   "source": [
    "def decode_img(img, crop_size=224):\n",
    "  img = tf.io.read_file(img)\n",
    "  # convert the compressed string to a 3D uint8 tensor\n",
    "  img = tf.image.decode_jpeg(img, channels=3)\n",
    "  # resize the image to the desired size\n",
    "  return tf.image.resize(img, [crop_size, crop_size])\n",
    "\n",
    "def get_label(label):\n",
    "  # find teh matching label\n",
    "  one_hot = tf.where(tf.equal(label, class_names))\n",
    "  # Integer encode the label\n",
    "  return tf.reduce_min(one_hot)\n",
    "\n",
    "def process_path(file_path):\n",
    "  # should have two parts\n",
    "  file_path = tf.strings.split(file_path)\n",
    "  # second part has the class index\n",
    "  label = get_label(file_path[1])\n",
    "  # load the raw data from the file\n",
    "  img = decode_img(tf.strings.join([data_dir, 'images/', file_path[0], '.jpg']))\n",
    "  return img, label\n",
    "\n",
    "def process_path_unlabeled(file_path):\n",
    "  # load the raw data from the file\n",
    "  img = decode_img(tf.strings.join([data_dir, 'images/', file_path, '.jpg']))\n",
    "  #WE are using this method for unlabeled data, so we will manually return -1 as a label for scikit clustering\n",
    "  return img, tf.cast(-1., tf.int64)\n",
    "\n",
    "def process_path_test(file_path):\n",
    "  # load the raw data from the file\n",
    "  img = decode_img(tf.strings.join([data_dir, 'images/', file_path, '.jpg']))\n",
    "  return img, file_path"
   ]
  },
  {
   "cell_type": "markdown",
   "metadata": {
    "id": "DBUt-k32tAo3"
   },
   "source": [
    "# Finish setting up data"
   ]
  },
  {
   "cell_type": "code",
   "execution_count": 17,
   "metadata": {
    "id": "hD7gOwX0tAo3",
    "scrolled": true
   },
   "outputs": [
    {
     "name": "stdout",
     "output_type": "stream",
     "text": [
      "WARNING:tensorflow:AutoGraph could not transform <function process_path at 0x2b4c97ec9440> and will run it as-is.\n",
      "Please report this to the TensorFlow team. When filing the bug, set the verbosity to 10 (on Linux, `export AUTOGRAPH_VERBOSITY=10`) and attach the full output.\n",
      "Cause: module 'gast' has no attribute 'Index'\n",
      "To silence this warning, decorate the function with @tf.autograph.experimental.do_not_convert\n",
      "WARNING: AutoGraph could not transform <function process_path at 0x2b4c97ec9440> and will run it as-is.\n",
      "Please report this to the TensorFlow team. When filing the bug, set the verbosity to 10 (on Linux, `export AUTOGRAPH_VERBOSITY=10`) and attach the full output.\n",
      "Cause: module 'gast' has no attribute 'Index'\n",
      "To silence this warning, decorate the function with @tf.autograph.experimental.do_not_convert\n"
     ]
    }
   ],
   "source": [
    "batch_size = 25\n",
    "\n",
    "# Set `num_parallel_calls` so multiple images are loaded/processed in parallel.\n",
    "AUTOTUNE = tf.data.experimental.AUTOTUNE\n",
    "train_ds = train_ds.map(process_path, num_parallel_calls=AUTOTUNE)\n",
    "#train_unlabeled_ds = train_unlabeled_ds.map(process_path_unlabeled, num_parallel_calls=AUTOTUNE)\n",
    "val_ds = val_ds.map(process_path, num_parallel_calls=AUTOTUNE)\n",
    "test_ds = test_ds.map(process_path_test, num_parallel_calls=AUTOTUNE)\n",
    "\n",
    "#Concatenate labeled and unlabeled for one training dataset\n",
    "####train_ds = train_ds.concatenate(train_unlabeled_ds)"
   ]
  },
  {
   "cell_type": "markdown",
   "metadata": {},
   "source": [
    "## KNN to label unlabled data points, skip"
   ]
  },
  {
   "cell_type": "raw",
   "metadata": {},
   "source": [
    "#Split train_ds to X, y array-like for Sci-Kit learn KNN\n",
    "\n",
    "X = []\n",
    "y = []\n",
    "for img, lbl in train_ds:\n",
    "    X.append(img.numpy().flatten())\n",
    "    y.append(lbl)\n"
   ]
  },
  {
   "cell_type": "raw",
   "metadata": {},
   "source": [
    "X = np.array(X)\n",
    "y = np.array(y)\n",
    "\n",
    "print(X.shape)\n",
    "print(y.shape)"
   ]
  },
  {
   "cell_type": "raw",
   "metadata": {},
   "source": [
    "from sklearn.semi_supervised import LabelPropagation\n",
    "\n",
    "n_total_samples = 4308\n",
    "n_labeled_points = 100\n",
    "\n",
    "lp_model = LabelPropagation()\n",
    "lp_model.fit(X, y)\n",
    "\n"
   ]
  },
  {
   "cell_type": "raw",
   "metadata": {},
   "source": [
    "#Unfinished Mark\n",
    "\n",
    "#TRAIN_DS (Labeled) DATA POINTS = 100\n",
    "#TRAIN__UNLABELED_DS DATA POINTS = 4208\n",
    "from scipy import stats\n",
    "\n",
    "from sklearn import datasets\n",
    "from sklearn.semi_supervised import LabelPropagation\n",
    "\n",
    "from sklearn.metrics import confusion_matrix, classification_report\n",
    "\n",
    "lp_model = LabelPropagation(kernel='knn', n_neighbors=20, max_iter=20)\n",
    "lp_model.fit(X, y)\n",
    "\n",
    "print(y[4208:]) #test"
   ]
  },
  {
   "cell_type": "code",
   "execution_count": 18,
   "metadata": {},
   "outputs": [
    {
     "data": {
      "text/plain": [
       "'\\npredicted_labels = lp_model.transduction_[unlabeled_set]\\ntrue_labels = y[unlabeled_set]\\n\\ncm = confusion_matrix(true_labels, predicted_labels, labels=lp_model.classes_)\\n\\nprint(\"Label Spreading model: %d labeled & %d unlabeled points (%d total)\" %\\n      (n_labeled_points, n_total_samples - n_labeled_points, n_total_samples))\\n\\nprint(classification_report(true_labels, predicted_labels))\\n\\nprint(\"Confusion matrix\")\\nprint(cm)\\n\\n# #############################################################################\\n# Calculate uncertainty values for each transduced distribution\\npred_entropies = stats.distributions.entropy(lp_model.label_distributions_.T)\\n\\n# #############################################################################\\n# Pick the top 10 most uncertain labels\\nuncertainty_index = np.argsort(pred_entropies)[-10:]\\n\\n# #############################################################################\\n# Plot\\nf = plt.figure(figsize=(7, 5))\\nfor index, image_index in enumerate(uncertainty_index):\\n    image = images[image_index]\\n\\n    sub = f.add_subplot(2, 5, index + 1)\\n    sub.imshow(image, cmap=plt.cm.gray_r)\\n    plt.xticks([])\\n    plt.yticks([])\\n    sub.set_title(\\'predict: %i\\ntrue: %i\\' % (\\n        lp_model.transduction_[image_index], y[image_index]))\\n\\nf.suptitle(\\'Learning with small amount of labeled data\\')\\nplt.show()\\n\\n'"
      ]
     },
     "execution_count": 18,
     "metadata": {},
     "output_type": "execute_result"
    }
   ],
   "source": [
    "#Adapted from scikit learn docs\n",
    "'''\n",
    "predicted_labels = lp_model.transduction_[unlabeled_set]\n",
    "true_labels = y[unlabeled_set]\n",
    "\n",
    "cm = confusion_matrix(true_labels, predicted_labels, labels=lp_model.classes_)\n",
    "\n",
    "print(\"Label Spreading model: %d labeled & %d unlabeled points (%d total)\" %\n",
    "      (n_labeled_points, n_total_samples - n_labeled_points, n_total_samples))\n",
    "\n",
    "print(classification_report(true_labels, predicted_labels))\n",
    "\n",
    "print(\"Confusion matrix\")\n",
    "print(cm)\n",
    "\n",
    "# #############################################################################\n",
    "# Calculate uncertainty values for each transduced distribution\n",
    "pred_entropies = stats.distributions.entropy(lp_model.label_distributions_.T)\n",
    "\n",
    "# #############################################################################\n",
    "# Pick the top 10 most uncertain labels\n",
    "uncertainty_index = np.argsort(pred_entropies)[-10:]\n",
    "\n",
    "# #############################################################################\n",
    "# Plot\n",
    "f = plt.figure(figsize=(7, 5))\n",
    "for index, image_index in enumerate(uncertainty_index):\n",
    "    image = images[image_index]\n",
    "\n",
    "    sub = f.add_subplot(2, 5, index + 1)\n",
    "    sub.imshow(image, cmap=plt.cm.gray_r)\n",
    "    plt.xticks([])\n",
    "    plt.yticks([])\n",
    "    sub.set_title('predict: %i\\ntrue: %i' % (\n",
    "        lp_model.transduction_[image_index], y[image_index]))\n",
    "\n",
    "f.suptitle('Learning with small amount of labeled data')\n",
    "plt.show()\n",
    "\n",
    "'''"
   ]
  },
  {
   "cell_type": "markdown",
   "metadata": {},
   "source": [
    "# Offline Image Augmentation"
   ]
  },
  {
   "cell_type": "code",
   "execution_count": 19,
   "metadata": {},
   "outputs": [],
   "source": [
    "def augmentFlipUD(img, label):\n",
    "    return tf.image.flip_up_down(img), label\n",
    "\n",
    "def augmentFlipLR(img, label):\n",
    "    return tf.image.flip_left_right(img), label\n",
    "\n",
    "def augmentRotate(img, label):\n",
    "    if np.random.random() < .5:\n",
    "        return tf.image.rot90(img, k=1), label\n",
    "    else:\n",
    "        return tf.image.rot90(img, k=3), label\n",
    "    \n",
    "#Let's augment and grow our training set 4x\n",
    "\n",
    "tdsAugment = train_ds.map(augmentFlipUD, num_parallel_calls=AUTOTUNE)\n",
    "tdsAugment = tdsAugment.concatenate(train_ds.map(augmentFlipLR, num_parallel_calls=AUTOTUNE))\n",
    "tdsAugment = tdsAugment.concatenate(train_ds.map(augmentRotate, num_parallel_calls=AUTOTUNE))\n",
    "\n",
    "train_ds = train_ds.concatenate(tdsAugment)"
   ]
  },
  {
   "cell_type": "markdown",
   "metadata": {
    "id": "epSS5nlYtAo3"
   },
   "source": [
    "## Data loader hyper-parameters for performance!"
   ]
  },
  {
   "cell_type": "code",
   "execution_count": 20,
   "metadata": {
    "id": "oIrk9SuYtAo3"
   },
   "outputs": [],
   "source": [
    "def configure_for_performance(ds):\n",
    "  ds = ds.cache()\n",
    "  ds = ds.shuffle(buffer_size=1000)\n",
    "  ds = ds.batch(batch_size)\n",
    "  ds = ds.prefetch(buffer_size=AUTOTUNE)\n",
    "  return ds\n",
    "\n",
    "train_ds = configure_for_performance(train_ds)\n",
    "#train_unlabeled_ds = configure_for_performance(train_unlabeled_ds)\n",
    "val_ds = configure_for_performance(val_ds)\n",
    "test_ds = configure_for_performance(test_ds)"
   ]
  },
  {
   "cell_type": "markdown",
   "metadata": {
    "id": "JyOA90IRtAo4"
   },
   "source": [
    "## Transfer Learning from Task 1 model"
   ]
  },
  {
   "cell_type": "code",
   "execution_count": 21,
   "metadata": {
    "id": "wWHpzQoatAo4"
   },
   "outputs": [],
   "source": [
    "#Load and use model from task 1\n",
    "task1_model = keras.models.load_model('baselineAugmented.hdf5')\n",
    "\n",
    "#Set base to untrainable\n",
    "task1_model.trainable = False\n",
    "\n",
    "inputs = keras.Input(shape=(224, 224, 3))\n",
    "\n",
    "x = task1_model(inputs, training=False)\n",
    "outputs = keras.layers.Dense(20)(x)\n",
    "model = keras.Model(inputs, outputs)\n"
   ]
  },
  {
   "cell_type": "markdown",
   "metadata": {
    "id": "5CFFrdvMtAo4"
   },
   "source": [
    "## The usual loss function"
   ]
  },
  {
   "cell_type": "code",
   "execution_count": 22,
   "metadata": {
    "id": "MaUMyxl3tAo4"
   },
   "outputs": [],
   "source": [
    "opt = keras.optimizers.Adam(learning_rate=0.0001)\n",
    "model.compile(\n",
    "  optimizer=opt,\n",
    "  loss=tf.losses.SparseCategoricalCrossentropy(from_logits=True),\n",
    "  metrics=['accuracy',tf.keras.metrics.SparseTopKCategoricalAccuracy(k=5)])"
   ]
  },
  {
   "cell_type": "markdown",
   "metadata": {
    "id": "sYePw6F3tAo4"
   },
   "source": [
    "## Training"
   ]
  },
  {
   "cell_type": "code",
   "execution_count": 23,
   "metadata": {},
   "outputs": [],
   "source": [
    "from keras.callbacks import ModelCheckpoint, EarlyStopping"
   ]
  },
  {
   "cell_type": "code",
   "execution_count": 24,
   "metadata": {
    "id": "BEi56DBrtAo4"
   },
   "outputs": [
    {
     "name": "stdout",
     "output_type": "stream",
     "text": [
      "Epoch 1/40\n",
      "     16/Unknown - 0s 10ms/step - loss: 5.3874 - accuracy: 0.0925 - sparse_top_k_categorical_accuracy: 0.2600\n",
      "Epoch 00001: loss improved from inf to 5.38738, saving model to task2.hdf5\n",
      "16/16 [==============================] - 13s 799ms/step - loss: 5.3874 - accuracy: 0.0925 - sparse_top_k_categorical_accuracy: 0.2600 - val_loss: 4.2679 - val_accuracy: 0.0776 - val_sparse_top_k_categorical_accuracy: 0.4323\n",
      "Epoch 2/40\n",
      "13/16 [=======================>......] - ETA: 0s - loss: 4.0777 - accuracy: 0.1385 - sparse_top_k_categorical_accuracy: 0.4123\n",
      "Epoch 00002: loss improved from 5.38738 to 4.02875, saving model to task2.hdf5\n",
      "16/16 [==============================] - 0s 30ms/step - loss: 4.0287 - accuracy: 0.1375 - sparse_top_k_categorical_accuracy: 0.4150 - val_loss: 3.4428 - val_accuracy: 0.1551 - val_sparse_top_k_categorical_accuracy: 0.5429\n",
      "Epoch 3/40\n",
      "13/16 [=======================>......] - ETA: 0s - loss: 3.2441 - accuracy: 0.2062 - sparse_top_k_categorical_accuracy: 0.5569\n",
      "Epoch 00003: loss improved from 4.02875 to 3.12673, saving model to task2.hdf5\n",
      "16/16 [==============================] - 0s 30ms/step - loss: 3.1267 - accuracy: 0.2150 - sparse_top_k_categorical_accuracy: 0.5800 - val_loss: 2.9106 - val_accuracy: 0.2310 - val_sparse_top_k_categorical_accuracy: 0.6419\n",
      "Epoch 4/40\n",
      "13/16 [=======================>......] - ETA: 0s - loss: 2.4940 - accuracy: 0.3169 - sparse_top_k_categorical_accuracy: 0.7169\n",
      "Epoch 00004: loss improved from 3.12673 to 2.47555, saving model to task2.hdf5\n",
      "16/16 [==============================] - 0s 29ms/step - loss: 2.4755 - accuracy: 0.3225 - sparse_top_k_categorical_accuracy: 0.7050 - val_loss: 2.5438 - val_accuracy: 0.2987 - val_sparse_top_k_categorical_accuracy: 0.7063\n",
      "Epoch 5/40\n",
      "13/16 [=======================>......] - ETA: 0s - loss: 1.9933 - accuracy: 0.4431 - sparse_top_k_categorical_accuracy: 0.7908\n",
      "Epoch 00005: loss improved from 2.47555 to 2.00714, saving model to task2.hdf5\n",
      "16/16 [==============================] - 0s 29ms/step - loss: 2.0071 - accuracy: 0.4500 - sparse_top_k_categorical_accuracy: 0.7825 - val_loss: 2.2739 - val_accuracy: 0.3416 - val_sparse_top_k_categorical_accuracy: 0.7739\n",
      "Epoch 6/40\n",
      "13/16 [=======================>......] - ETA: 0s - loss: 1.7863 - accuracy: 0.4923 - sparse_top_k_categorical_accuracy: 0.8154\n",
      "Epoch 00006: loss improved from 2.00714 to 1.69906, saving model to task2.hdf5\n",
      "16/16 [==============================] - 0s 29ms/step - loss: 1.6991 - accuracy: 0.5300 - sparse_top_k_categorical_accuracy: 0.8300 - val_loss: 2.1048 - val_accuracy: 0.3762 - val_sparse_top_k_categorical_accuracy: 0.8020\n",
      "Epoch 7/40\n",
      "13/16 [=======================>......] - ETA: 0s - loss: 1.4580 - accuracy: 0.5785 - sparse_top_k_categorical_accuracy: 0.8677\n",
      "Epoch 00007: loss improved from 1.69906 to 1.47160, saving model to task2.hdf5\n",
      "16/16 [==============================] - 1s 32ms/step - loss: 1.4716 - accuracy: 0.5850 - sparse_top_k_categorical_accuracy: 0.8625 - val_loss: 1.9743 - val_accuracy: 0.3993 - val_sparse_top_k_categorical_accuracy: 0.8317\n",
      "Epoch 8/40\n",
      "16/16 [==============================] - ETA: 0s - loss: 1.3036 - accuracy: 0.6250 - sparse_top_k_categorical_accuracy: 0.8850\n",
      "Epoch 00008: loss improved from 1.47160 to 1.30362, saving model to task2.hdf5\n",
      "16/16 [==============================] - 1s 32ms/step - loss: 1.3036 - accuracy: 0.6250 - sparse_top_k_categorical_accuracy: 0.8850 - val_loss: 1.8652 - val_accuracy: 0.4389 - val_sparse_top_k_categorical_accuracy: 0.8482\n",
      "Epoch 9/40\n",
      "16/16 [==============================] - ETA: 0s - loss: 1.1692 - accuracy: 0.6425 - sparse_top_k_categorical_accuracy: 0.9000\n",
      "Epoch 00009: loss improved from 1.30362 to 1.16916, saving model to task2.hdf5\n",
      "16/16 [==============================] - 1s 32ms/step - loss: 1.1692 - accuracy: 0.6425 - sparse_top_k_categorical_accuracy: 0.9000 - val_loss: 1.7903 - val_accuracy: 0.4571 - val_sparse_top_k_categorical_accuracy: 0.8531\n",
      "Epoch 10/40\n",
      "16/16 [==============================] - ETA: 0s - loss: 1.0607 - accuracy: 0.6825 - sparse_top_k_categorical_accuracy: 0.9050\n",
      "Epoch 00010: loss improved from 1.16916 to 1.06072, saving model to task2.hdf5\n",
      "16/16 [==============================] - 1s 32ms/step - loss: 1.0607 - accuracy: 0.6825 - sparse_top_k_categorical_accuracy: 0.9050 - val_loss: 1.7252 - val_accuracy: 0.4686 - val_sparse_top_k_categorical_accuracy: 0.8564\n",
      "Epoch 11/40\n",
      "16/16 [==============================] - ETA: 0s - loss: 0.9725 - accuracy: 0.7200 - sparse_top_k_categorical_accuracy: 0.9125\n",
      "Epoch 00011: loss improved from 1.06072 to 0.97251, saving model to task2.hdf5\n",
      "16/16 [==============================] - 1s 32ms/step - loss: 0.9725 - accuracy: 0.7200 - sparse_top_k_categorical_accuracy: 0.9125 - val_loss: 1.6958 - val_accuracy: 0.4901 - val_sparse_top_k_categorical_accuracy: 0.8581\n",
      "Epoch 12/40\n",
      "16/16 [==============================] - ETA: 0s - loss: 0.8945 - accuracy: 0.7525 - sparse_top_k_categorical_accuracy: 0.9225\n",
      "Epoch 00012: loss improved from 0.97251 to 0.89448, saving model to task2.hdf5\n",
      "16/16 [==============================] - 1s 33ms/step - loss: 0.8945 - accuracy: 0.7525 - sparse_top_k_categorical_accuracy: 0.9225 - val_loss: 1.6592 - val_accuracy: 0.5132 - val_sparse_top_k_categorical_accuracy: 0.8581\n"
     ]
    }
   ],
   "source": [
    "checkpoint = ModelCheckpoint(\"task2.hdf5\", monitor='loss', verbose=1,\n",
    "    save_best_only=True, mode='auto', save_freq='epoch')\n",
    "\n",
    "es = EarlyStopping(monitor='val_loss', min_delta = .1, patience=2)\n",
    "\n",
    "first_iter_history = model.fit(train_ds,validation_data=val_ds,epochs=40,shuffle=True, callbacks=[checkpoint, es])"
   ]
  },
  {
   "cell_type": "code",
   "execution_count": 25,
   "metadata": {},
   "outputs": [
    {
     "name": "stdout",
     "output_type": "stream",
     "text": [
      "dict_keys(['loss', 'accuracy', 'sparse_top_k_categorical_accuracy', 'val_loss', 'val_accuracy', 'val_sparse_top_k_categorical_accuracy'])\n"
     ]
    }
   ],
   "source": [
    "print(first_iter_history.history.keys())"
   ]
  },
  {
   "cell_type": "markdown",
   "metadata": {},
   "source": [
    "# Learning Curves"
   ]
  },
  {
   "cell_type": "code",
   "execution_count": 26,
   "metadata": {},
   "outputs": [
    {
     "data": {
      "image/png": "[encoded data removed]",
      "text/plain": [
       "<Figure size 432x288 with 1 Axes>"
      ]
     },
     "metadata": {
      "needs_background": "light"
     },
     "output_type": "display_data"
    }
   ],
   "source": [
    "plt.plot(first_iter_history.history['loss'])\n",
    "plt.plot(first_iter_history.history['val_loss'])\n",
    "plt.plot(first_iter_history.history['sparse_top_k_categorical_accuracy'])\n",
    "\n",
    "plt.title('model loss')\n",
    "plt.ylabel('loss')\n",
    "plt.xlabel('epoch')\n",
    "plt.legend(['train', 'val', 'k-acc'], loc='upper left')\n",
    "plt.show()"
   ]
  },
  {
   "cell_type": "markdown",
   "metadata": {},
   "source": [
    "# Pseudo Labeling"
   ]
  },
  {
   "cell_type": "code",
   "execution_count": null,
   "metadata": {},
   "outputs": [],
   "source": []
  },
  {
   "cell_type": "code",
   "execution_count": null,
   "metadata": {},
   "outputs": [],
   "source": []
  },
  {
   "cell_type": "raw",
   "metadata": {},
   "source": [
    "task2_model = keras.models.load_model('task2.hdf5')\n",
    "\n",
    "#Pseudo Labeling\n",
    "\n",
    "dict_labels = {}\n",
    "for image_batch, image_names in train_unlabeled_ds:\n",
    "    predictions = task2_model.predict(image_batch)\n",
    "    for image_name, predictions in zip(image_names.numpy(), task2_model.predict(image_batch)):\n",
    "      inds = np.argmax(predictions)\n",
    "      dict_labels[str(int(image_name))] = class_names[inds]\n",
    "      "
   ]
  },
  {
   "cell_type": "raw",
   "metadata": {},
   "source": [
    "for x in list(dict_labels)[:3]:\n",
    "    print(type(x))\n",
    "    print(type(dict_labels[x]))\n",
    "    \n",
    "print(train_unlabeled_ds.take(1))"
   ]
  },
  {
   "cell_type": "raw",
   "metadata": {},
   "source": [
    "def getPseudoLabels(img, label):\n",
    "    return img, dict_labels[label.numpy()]\n",
    "\n",
    "train_unl = train_unl.map(getPseudoLabels, num_parallel_calls=AUTOTUNE)\n",
    "train_ds = train_ds.concatenate(train_unl)"
   ]
  },
  {
   "cell_type": "raw",
   "metadata": {},
   "source": [
    "checkpoint = ModelCheckpoint(\"task2_2.hdf5\", monitor='loss', verbose=1,\n",
    "    save_best_only=True, mode='auto', save_freq='epoch')\n",
    "\n",
    "es = EarlyStopping(monitor='val_loss', min_delta = .1, patience=2)\n",
    "\n",
    "second_iter_history = model.fit(train_ds,validation_data=val_ds,epochs=10,shuffle=True, callbacks=[checkpoint, es])"
   ]
  },
  {
   "cell_type": "markdown",
   "metadata": {
    "id": "VpPs4SWetAo4"
   },
   "source": [
    "# Output submission csv for Kaggle\n"
   ]
  },
  {
   "cell_type": "code",
   "execution_count": 27,
   "metadata": {
    "id": "sV2YebpItAo4"
   },
   "outputs": [],
   "source": [
    "#new_model = keras.models.load_model('baselineAugmented.hdf5')\n",
    "#with open('submission_task2_2_semisupervised.csv', 'w') as f:\n",
    "#new_model = keras.models.load_model('task2.hdf5')\n",
    "\n",
    "    \n",
    "with open('submission_task2_semisupervised.csv', 'w') as f:\n",
    "  f.write('id,predicted\\n')\n",
    "  for image_batch, image_names in test_ds:\n",
    "    predictions = model.predict(image_batch)\n",
    "    for image_name, predictions in zip(image_names.numpy(), model.predict(image_batch)):\n",
    "      inds = np.argmax(predictions)\n",
    "      line = str(int(image_name)) + ',' + class_names[inds]\n",
    "      f.write(line + '\\n')"
   ]
  },
  {
   "cell_type": "markdown",
   "metadata": {
    "id": "Xt7OaOehvoh1"
   },
   "source": [
    "**Note**\n",
    "\n",
    "Absolute path is recommended here. For example, use \"/projectnb2/cs542-bap/[your directory name]/submission_task2_supervised.csv\" to replace \"submission_task2_supervised.csv\".\n",
    "\n",
    "Besides, you can request good resources by specify the type of gpus, such as \"qsub -l gpus=1 -l gpu_type=P100 [your file name].qsub\". This is helpful to avoid potential issues of GPUs, such as out of memory, etc."
   ]
  },
  {
   "cell_type": "code",
   "execution_count": null,
   "metadata": {},
   "outputs": [],
   "source": []
  }
 ],
 "metadata": {
  "colab": {
   "collapsed_sections": [],
   "name": "baselineModel.ipynb",
   "provenance": [],
   "toc_visible": true
  },
  "kernelspec": {
   "display_name": "Python 3",
   "language": "python",
   "name": "python3"
  },
  "language_info": {
   "codemirror_mode": {
    "name": "ipython",
    "version": 3
   },
   "file_extension": ".py",
   "mimetype": "text/x-python",
   "name": "python",
   "nbconvert_exporter": "python",
   "pygments_lexer": "ipython3",
   "version": "3.7.3"
  }
 },
 "nbformat": 4,
 "nbformat_minor": 1
}
