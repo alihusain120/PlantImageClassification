{
 "cells": [
  {
   "cell_type": "markdown",
   "metadata": {
    "id": "A9ZmxP6StAoz"
   },
   "source": [
    "# CS542 - Class Challenge - fine-grained classification of plants:\n",
    "\n",
    "Our class challenge will consists of two tasks addressing an image recognition task where our dataset contains about 1K categories of plants with only about 250,000 images.  There will be two parts to this task:\n",
    "\n",
    "1. Image classification. Imagine we have cateloged all the plants we care to identify, now we just need to create a classifier for them! Use your skills from the supervised learning sections of this course to try to address this problem.\n",
    "\n",
    "2. Semi-Supervised/Few-Shot Learning.  Unfortunately, we missed some important plants we want to classify!  We do have some images we think contain the plant, but we have only have a few labels.  Our new goal is to develop an AI model that can learn from just these labeled examples.\n",
    "\n",
    "Each student must submit a model on both tasks.  Students in the top 3 on each task will get 5% extra credit on this assignment.\n",
    "\n",
    "This notebook is associated with the first task (image classification).\n",
    "\n",
    "\n",
    "# Dataset\n",
    "The dataset is downloaded on scc in the address: \"/projectnb2/cs542-bap/classChallenge/data\". You can find the python version of this notebook there as well or you could just type \"jupyter nbconvert --to script baselineModel_task1.ipynb\" and it will output \"baselineModel_task1.py\". You should be able to run \"baselineModel_task1.py\" on scc by simply typing \"python baselineModel_task1.py\"\n",
    "\n",
    "Please don't try to change or delete the dataset.\n",
    "\n",
    "# Evaluation:\n",
    "You will compete with each other over your performance on the dedicated test set. The performance measure is top the 5 error, i.e: if the true class is in one of your top 5 likely predictions, then its error is 0, otherwise its error is 1.  So, your goal is to get an error of 0. This notebook outputs top5 accuracy, so it is 1 - top5 error.\n",
    "\n",
    "# Baseline:\n",
    "The following code is a baseline which you can use and improve to come up with your model for this task\n",
    "\n",
    "# Suggestion\n",
    "One simple suggestion would be to use a pretrained model on imagenet and finetune it on this data similar to this [link](https://keras.io/api/applications/)\n",
    "Also you should likely train more than 2 epochs."
   ]
  },
  {
   "cell_type": "markdown",
   "metadata": {
    "id": "4q8oub7ntAo1"
   },
   "source": [
    "## Import TensorFlow and other libraries"
   ]
  },
  {
   "cell_type": "code",
   "execution_count": 1,
   "metadata": {
    "id": "14D2EZ17tAo1"
   },
   "outputs": [],
   "source": [
    "import matplotlib.pyplot as plt\n",
    "import numpy as np\n",
    "import os\n",
    "import PIL\n",
    "import tensorflow as tf\n",
    "\n",
    "from tensorflow import keras\n",
    "from tensorflow.keras import layers\n",
    "from tensorflow.keras.models import Sequential"
   ]
  },
  {
   "cell_type": "markdown",
   "metadata": {
    "id": "zwPVwONvv7cF"
   },
   "source": [
    "# Download the dataset (may need to be rerun)"
   ]
  },
  {
   "cell_type": "code",
   "execution_count": 2,
   "metadata": {
    "colab": {
     "base_uri": "https://localhost:8080/"
    },
    "id": "3RbvnIPTpGV-",
    "outputId": "f5e863b0-df6c-4527-e45f-265531b9f0d8"
   },
   "outputs": [
    {
     "name": "stdout",
     "output_type": "stream",
     "text": [
      "--2020-12-06 22:50:23--  https://docs.google.com/uc?export=download&confirm=9Qvb&id=1p5wZTr2o5W4kRQfC8ORawwhP9oIMT7Y3\n",
      "Resolving docs.google.com (docs.google.com)... 142.250.97.139, 142.250.97.100, 142.250.97.113, ...\n",
      "Connecting to docs.google.com (docs.google.com)|142.250.97.139|:443... connected.\n",
      "HTTP request sent, awaiting response... 302 Moved Temporarily\n",
      "Location: https://doc-0c-3s-docs.googleusercontent.com/docs/securesc/be1r2hrsd0pi0g482pg8pr0b915rnvbj/s3rmrruj7sl51naasph0vbcpl3ddl4sc/1607295000000/16959996596808468099/11995804591229286456Z/1p5wZTr2o5W4kRQfC8ORawwhP9oIMT7Y3?e=download [following]\n",
      "--2020-12-06 22:50:23--  https://doc-0c-3s-docs.googleusercontent.com/docs/securesc/be1r2hrsd0pi0g482pg8pr0b915rnvbj/s3rmrruj7sl51naasph0vbcpl3ddl4sc/1607295000000/16959996596808468099/11995804591229286456Z/1p5wZTr2o5W4kRQfC8ORawwhP9oIMT7Y3?e=download\n",
      "Resolving doc-0c-3s-docs.googleusercontent.com (doc-0c-3s-docs.googleusercontent.com)... 142.250.98.132, 2607:f8b0:400c:c1a::84\n",
      "Connecting to doc-0c-3s-docs.googleusercontent.com (doc-0c-3s-docs.googleusercontent.com)|142.250.98.132|:443... connected.\n",
      "HTTP request sent, awaiting response... 302 Found\n",
      "Location: https://docs.google.com/nonceSigner?nonce=dnv54v8d7n1ma&continue=https://doc-0c-3s-docs.googleusercontent.com/docs/securesc/be1r2hrsd0pi0g482pg8pr0b915rnvbj/s3rmrruj7sl51naasph0vbcpl3ddl4sc/1607295000000/16959996596808468099/11995804591229286456Z/1p5wZTr2o5W4kRQfC8ORawwhP9oIMT7Y3?e%3Ddownload&hash=hu5fma9k206g2glp8jb10t23fc7jmc4g [following]\n",
      "--2020-12-06 22:50:23--  https://docs.google.com/nonceSigner?nonce=dnv54v8d7n1ma&continue=https://doc-0c-3s-docs.googleusercontent.com/docs/securesc/be1r2hrsd0pi0g482pg8pr0b915rnvbj/s3rmrruj7sl51naasph0vbcpl3ddl4sc/1607295000000/16959996596808468099/11995804591229286456Z/1p5wZTr2o5W4kRQfC8ORawwhP9oIMT7Y3?e%3Ddownload&hash=hu5fma9k206g2glp8jb10t23fc7jmc4g\n",
      "Connecting to docs.google.com (docs.google.com)|142.250.97.139|:443... connected.\n",
      "HTTP request sent, awaiting response... 302 Found\n",
      "Location: https://doc-0c-3s-docs.googleusercontent.com/docs/securesc/be1r2hrsd0pi0g482pg8pr0b915rnvbj/s3rmrruj7sl51naasph0vbcpl3ddl4sc/1607295000000/16959996596808468099/11995804591229286456Z/1p5wZTr2o5W4kRQfC8ORawwhP9oIMT7Y3?e=download&nonce=dnv54v8d7n1ma&user=11995804591229286456Z&hash=lqschgm4gk5na0pdq4pn0p65fkmf2cim [following]\n",
      "--2020-12-06 22:50:23--  https://doc-0c-3s-docs.googleusercontent.com/docs/securesc/be1r2hrsd0pi0g482pg8pr0b915rnvbj/s3rmrruj7sl51naasph0vbcpl3ddl4sc/1607295000000/16959996596808468099/11995804591229286456Z/1p5wZTr2o5W4kRQfC8ORawwhP9oIMT7Y3?e=download&nonce=dnv54v8d7n1ma&user=11995804591229286456Z&hash=lqschgm4gk5na0pdq4pn0p65fkmf2cim\n",
      "Connecting to doc-0c-3s-docs.googleusercontent.com (doc-0c-3s-docs.googleusercontent.com)|142.250.98.132|:443... connected.\n",
      "HTTP request sent, awaiting response... 200 OK\n",
      "Length: unspecified [application/x-zip-compressed]\n",
      "Saving to: ‘data.zip’\n",
      "\n",
      "data.zip                [       <=>          ] 268.27M   217MB/s    in 1.2s    \n",
      "\n",
      "2020-12-06 22:50:24 (217 MB/s) - ‘data.zip’ saved [281305155]\n",
      "\n"
     ]
    }
   ],
   "source": [
    "!wget --load-cookies /tmp/cookies.txt \"https://docs.google.com/uc?export=download&confirm=$(wget --quiet --save-cookies /tmp/cookies.txt --keep-session-cookies --no-check-certificate 'https://docs.google.com/uc?export=download&id=1p5wZTr2o5W4kRQfC8ORawwhP9oIMT7Y3' -O- | sed -rn 's/.*confirm=([0-9A-Za-z_]+).*/\\1\\n/p')&id=1p5wZTr2o5W4kRQfC8ORawwhP9oIMT7Y3\" -O data.zip && rm -rf /tmp/cookies.txt\n",
    "\n",
    "import zipfile\n",
    "\n",
    "with zipfile.ZipFile('data.zip', 'r') as zip_ref:\n",
    "    zip_ref.extractall('data')"
   ]
  },
  {
   "cell_type": "markdown",
   "metadata": {
    "id": "ud719gVHtAo2"
   },
   "source": [
    "## Explore the dataset"
   ]
  },
  {
   "cell_type": "code",
   "execution_count": 3,
   "metadata": {
    "colab": {
     "base_uri": "https://localhost:8080/"
    },
    "id": "UvsLQZaztAo2",
    "outputId": "ebbba61a-9623-4099-8829-af02491b7d6d"
   },
   "outputs": [
    {
     "name": "stdout",
     "output_type": "stream",
     "text": [
      "Total number of images =  268242\n"
     ]
    }
   ],
   "source": [
    "import pathlib\n",
    "data_dir = 'data/'\n",
    "image_dir = os.path.join(data_dir, 'images_32x32')\n",
    "image_dir = pathlib.Path(image_dir)\n",
    "image_count = len(list(image_dir.glob('*.jpg')))\n",
    "print(\"Total number of images = \",image_count)"
   ]
  },
  {
   "cell_type": "markdown",
   "metadata": {
    "id": "nEosZ9qHtAo2"
   },
   "source": [
    "## Here are some images"
   ]
  },
  {
   "cell_type": "code",
   "execution_count": 4,
   "metadata": {
    "colab": {
     "base_uri": "https://localhost:8080/",
     "height": 49
    },
    "id": "VJRqkoQctAo2",
    "outputId": "78d9df20-ac8c-4da9-c3ab-444d7f14b8e8"
   },
   "outputs": [
    {
     "data": {
      "image/png": "[encoded data removed]",
      "text/plain": [
       "<PIL.JpegImagePlugin.JpegImageFile image mode=RGB size=32x32 at 0x7F5838050940>"
      ]
     },
     "execution_count": 4,
     "metadata": {
      "tags": []
     },
     "output_type": "execute_result"
    }
   ],
   "source": [
    "PIL.Image.open(os.path.join(image_dir, '100.jpg'))\n",
    "# note they are now 32x32 images"
   ]
  },
  {
   "cell_type": "markdown",
   "metadata": {
    "id": "BYaBUsR-tAo3"
   },
   "source": [
    "# Create a dataset"
   ]
  },
  {
   "cell_type": "code",
   "execution_count": 5,
   "metadata": {
    "id": "m893cNgztAo3"
   },
   "outputs": [],
   "source": [
    "train_ds = tf.data.TextLineDataset(os.path.join(data_dir, 'train_50_classes.txt'))\n",
    "val_ds = tf.data.TextLineDataset(os.path.join(data_dir, 'val_50_classes.txt'))\n",
    "\n",
    "with open(os.path.join(data_dir, 'classes_50_subset.txt'), 'r') as f:\n",
    "  class_names = [c.strip() for c in f.readlines()]\n",
    "\n",
    "num_classes = len(class_names)"
   ]
  },
  {
   "cell_type": "markdown",
   "metadata": {
    "id": "2m6getXwtAo3"
   },
   "source": [
    "## Write a short function that converts a file path to an (img, label) pair:"
   ]
  },
  {
   "cell_type": "code",
   "execution_count": 6,
   "metadata": {
    "id": "ZrIrN5iItAo3"
   },
   "outputs": [],
   "source": [
    "def decode_img(img, crop_size=32):\n",
    "  img = tf.io.read_file(img)\n",
    "  # convert the compressed string to a 3D uint8 tensor\n",
    "  img = tf.image.decode_jpeg(img, channels=3)\n",
    "  # resize the image to the desired size\n",
    "  return tf.image.resize(img, [crop_size, crop_size])\n",
    "\n",
    "def get_label(label):\n",
    "  # find teh matching label\n",
    "  one_hot = tf.where(tf.equal(label, class_names))\n",
    "  # Integer encode the label\n",
    "  return tf.reduce_min(one_hot)\n",
    "\n",
    "def process_path(file_path):\n",
    "  # should have two parts\n",
    "  file_path = tf.strings.split(file_path)\n",
    "  # second part has the class index\n",
    "  label = get_label(file_path[1])\n",
    "  # load the raw data from the file\n",
    "  img = decode_img(tf.strings.join([data_dir, 'images_32x32/', file_path[0], '.jpg']))\n",
    "  return img, label\n",
    "\n",
    "def process_path_test(file_path):\n",
    "  # load the raw data from the file\n",
    "  img = decode_img(tf.strings.join([data_dir, 'images_32x32/', file_path, '.jpg']))\n",
    "  return img, file_path"
   ]
  },
  {
   "cell_type": "markdown",
   "metadata": {
    "id": "DBUt-k32tAo3"
   },
   "source": [
    "## Finish setting up data"
   ]
  },
  {
   "cell_type": "code",
   "execution_count": 7,
   "metadata": {
    "id": "9GWelLTntAo3"
   },
   "outputs": [],
   "source": [
    "batch_size = 32"
   ]
  },
  {
   "cell_type": "markdown",
   "metadata": {
    "id": "JuDt77b9tKWz"
   },
   "source": []
  },
  {
   "cell_type": "code",
   "execution_count": 8,
   "metadata": {
    "id": "hD7gOwX0tAo3"
   },
   "outputs": [],
   "source": [
    "# Set `num_parallel_calls` so multiple images are loaded/processed in parallel.\n",
    "AUTOTUNE = tf.data.experimental.AUTOTUNE\n",
    "train_ds = train_ds.map(process_path, num_parallel_calls=AUTOTUNE)\n",
    "val_ds = val_ds.map(process_path, num_parallel_calls=AUTOTUNE)"
   ]
  },
  {
   "cell_type": "code",
   "execution_count": 9,
   "metadata": {
    "colab": {
     "base_uri": "https://localhost:8080/"
    },
    "id": "mtoazoLatAo3",
    "outputId": "09bc87ed-8ae2-4c27-ae48-02234bf359a1"
   },
   "outputs": [
    {
     "name": "stdout",
     "output_type": "stream",
     "text": [
      "Image shape:  (32, 32, 3)\n",
      "Label:  41\n"
     ]
    }
   ],
   "source": [
    "for image, label in train_ds.take(1):\n",
    "  print(\"Image shape: \", image.numpy().shape)\n",
    "  print(\"Label: \", label.numpy())"
   ]
  },
  {
   "cell_type": "markdown",
   "metadata": {
    "id": "epSS5nlYtAo3"
   },
   "source": [
    "## Data loader hyper-parameters for performance!"
   ]
  },
  {
   "cell_type": "code",
   "execution_count": 10,
   "metadata": {
    "id": "oIrk9SuYtAo3"
   },
   "outputs": [],
   "source": [
    "def configure_for_performance(ds):\n",
    "  ds = ds.cache()\n",
    "  ds = ds.shuffle(buffer_size=1000)\n",
    "  ds = ds.batch(batch_size)\n",
    "  ds = ds.prefetch(buffer_size=AUTOTUNE)\n",
    "  return ds\n",
    "\n",
    "train_ds = configure_for_performance(train_ds)\n",
    "val_ds = configure_for_performance(val_ds)"
   ]
  },
  {
   "cell_type": "markdown",
   "metadata": {
    "id": "fweoYwjktAo3"
   },
   "source": [
    "## Here are some resized images ready to use!"
   ]
  },
  {
   "cell_type": "code",
   "execution_count": 11,
   "metadata": {
    "colab": {
     "base_uri": "https://localhost:8080/",
     "height": 591
    },
    "id": "Pp4YNmrItAo3",
    "outputId": "8d754482-d7a0-4639-8732-a7187beb8599"
   },
   "outputs": [
    {
     "data": {
      "image/png": "[encoded data removed]",
      "text/plain": [
       "<Figure size 720x720 with 9 Axes>"
      ]
     },
     "metadata": {
      "needs_background": "light",
      "tags": []
     },
     "output_type": "display_data"
    }
   ],
   "source": [
    "image_batch, label_batch = next(iter(train_ds))\n",
    "\n",
    "plt.figure(figsize=(10, 10))\n",
    "for i in range(9):\n",
    "  ax = plt.subplot(3, 3, i + 1)\n",
    "  plt.imshow(image_batch[i].numpy().astype(\"uint8\"))\n",
    "  label = label_batch[i]\n",
    "  plt.title(class_names[label])\n",
    "  plt.axis(\"off\")"
   ]
  },
  {
   "cell_type": "markdown",
   "metadata": {
    "id": "JyOA90IRtAo4"
   },
   "source": [
    "## A simple CNN model!"
   ]
  },
  {
   "cell_type": "code",
   "execution_count": 12,
   "metadata": {
    "colab": {
     "base_uri": "https://localhost:8080/"
    },
    "id": "wWHpzQoatAo4",
    "outputId": "f0b62e75-e947-437a-9f61-156ab896b0f1"
   },
   "outputs": [
    {
     "name": "stdout",
     "output_type": "stream",
     "text": [
      "50\n"
     ]
    }
   ],
   "source": [
    "model = tf.keras.Sequential([\n",
    "  layers.experimental.preprocessing.Rescaling(1./255),\n",
    "  layers.Conv2D(64, 3),\n",
    "  layers.Conv2D(128, 3),\n",
    "  layers.Conv2D(256, 3),\n",
    "  layers.Flatten(),\n",
    "  layers.Dense(512),\n",
    "  layers.Dense(num_classes)\n",
    "])\n",
    "\n",
    "print(num_classes)"
   ]
  },
  {
   "cell_type": "markdown",
   "metadata": {
    "id": "5CFFrdvMtAo4"
   },
   "source": [
    "## The usual loss function"
   ]
  },
  {
   "cell_type": "code",
   "execution_count": 13,
   "metadata": {
    "id": "MaUMyxl3tAo4"
   },
   "outputs": [],
   "source": [
    "opt = keras.optimizers.Adam(learning_rate=0.0001)\n",
    "model.compile(\n",
    "  optimizer=opt,\n",
    "  loss=tf.losses.SparseCategoricalCrossentropy(from_logits=True),\n",
    "  metrics=['accuracy',tf.keras.metrics.SparseTopKCategoricalAccuracy(k=5)])"
   ]
  },
  {
   "cell_type": "markdown",
   "metadata": {
    "id": "sYePw6F3tAo4"
   },
   "source": [
    "## Training"
   ]
  },
  {
   "cell_type": "code",
   "execution_count": 14,
   "metadata": {
    "colab": {
     "base_uri": "https://localhost:8080/"
    },
    "id": "BEi56DBrtAo4",
    "outputId": "89825ebc-8c75-4232-9160-144ba0b99ce0"
   },
   "outputs": [
    {
     "name": "stdout",
     "output_type": "stream",
     "text": [
      "Epoch 1/2\n",
      "292/292 [==============================] - 500s 2s/step - loss: 3.5226 - accuracy: 0.1311 - sparse_top_k_categorical_accuracy: 0.3768 - val_loss: 3.2972 - val_accuracy: 0.1476 - val_sparse_top_k_categorical_accuracy: 0.4335\n",
      "Epoch 2/2\n",
      "292/292 [==============================] - 495s 2s/step - loss: 2.7555 - accuracy: 0.2773 - sparse_top_k_categorical_accuracy: 0.6102 - val_loss: 3.6141 - val_accuracy: 0.1261 - val_sparse_top_k_categorical_accuracy: 0.3891\n"
     ]
    },
    {
     "data": {
      "text/plain": [
       "<tensorflow.python.keras.callbacks.History at 0x7f58268da828>"
      ]
     },
     "execution_count": 14,
     "metadata": {
      "tags": []
     },
     "output_type": "execute_result"
    }
   ],
   "source": [
    "model.fit(train_ds,validation_data=val_ds,epochs=2,shuffle=True)"
   ]
  }
 ],
 "metadata": {
  "colab": {
   "collapsed_sections": [],
   "name": "baselineModel_task1_colab_32x32.ipynb",
   "provenance": [],
   "toc_visible": true
  },
  "kernelspec": {
   "display_name": "Python 3",
   "language": "python",
   "name": "python3"
  },
  "language_info": {
   "codemirror_mode": {
    "name": "ipython",
    "version": 3
   },
   "file_extension": ".py",
   "mimetype": "text/x-python",
   "name": "python",
   "nbconvert_exporter": "python",
   "pygments_lexer": "ipython3",
   "version": "3.7.3"
  }
 },
 "nbformat": 4,
 "nbformat_minor": 1
}
